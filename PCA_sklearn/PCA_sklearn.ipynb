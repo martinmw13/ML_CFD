{
 "cells": [
  {
   "cell_type": "code",
   "execution_count": 1,
   "metadata": {},
   "outputs": [],
   "source": [
    "import numpy as np\n",
    "from sklearn.decomposition import PCA\n",
    "from sklearn.preprocessing import StandardScaler\n",
    "from sklearn.model_selection import train_test_split\n",
    "import time\n",
    "import sys\n",
    "import os\n",
    "sys.path.append(\"../dataprocess\")\n",
    "import dataprocess as dp"
   ]
  },
  {
   "cell_type": "markdown",
   "metadata": {},
   "source": [
    "##### Function definitions"
   ]
  },
  {
   "cell_type": "code",
   "execution_count": 2,
   "metadata": {},
   "outputs": [],
   "source": [
    "def inverse_transf(X_train: np.ndarray, X_test: np.ndarray, r_max: int, r_step: int):\n",
    "    \"\"\"Perform inverse transform and map from the embedded s\n",
    "        pace to the original space\n",
    "\n",
    "    Args:\n",
    "        X_train (np.ndarray): train data matrix\n",
    "        X_test (np.ndarray): test data matrix\n",
    "        r_max (int): max number of modes to keep\n",
    "        r_step (int): mode number increment for calculating the reconstruction error\n",
    "\n",
    "    Returns:\n",
    "        X_reconstructed (np.ndarray): reconstructed data with r_max modes\n",
    "        err_rec (np.ndarray): vector containing the reconstruction error for 1 to r_max modes\n",
    "    \"\"\"\n",
    "    err_rec = np.zeros(len(range(1, r_max + 1, r_step)))\n",
    "    i = 0\n",
    "\n",
    "    for r in range(1, r_max + 1, r_step):\n",
    "        pca = PCA(n_components=r)\n",
    "        pca.fit(X_train)\n",
    "        X_pca_test = pca.transform(X_test)\n",
    "        X_reconstructed = pca.inverse_transform(X_pca_test)\n",
    "        err_rec[i] = np.linalg.norm(X_test - X_reconstructed) / np.linalg.norm(X_test)\n",
    "        i += 1\n",
    "    return X_reconstructed, err_rec"
   ]
  },
  {
   "cell_type": "markdown",
   "metadata": {},
   "source": [
    "#### Parameters"
   ]
  },
  {
   "cell_type": "code",
   "execution_count": 3,
   "metadata": {},
   "outputs": [],
   "source": [
    "# Mesh\n",
    "nx = 227  # X-direction nodes\n",
    "ny = 120  # Y-direction nodes\n",
    "# Domain:\n",
    "Lx = 17.665369  # Lx (Size of the box in x-direction)\n",
    "Ly = 9.0  # Ly (Size of the box in y-direction)\n",
    "# Cylinder coordinates:\n",
    "X_0 = 2.66537  # X coordinate of the center\n",
    "Y_0 = 4.5  # Y coordinate of the center\n",
    "r = 0.5  # Cylinder radius\n",
    "\n",
    "mesh = dp.Mesh(nx, ny, Lx, Ly, X_0, Y_0, r)\n",
    "\n",
    "# Data path\n",
    "re = 50\n",
    "input_dir = \"../data/\"\n",
    "input_filename = f'modVcropRe{re}.csv'\n",
    "# Max number of components and step for postprocess\n",
    "r_max = 12\n",
    "r_step = 1"
   ]
  },
  {
   "cell_type": "markdown",
   "metadata": {},
   "source": [
    "#### Data pre-processing"
   ]
  },
  {
   "cell_type": "code",
   "execution_count": null,
   "metadata": {},
   "outputs": [],
   "source": [
    "''' Read velocity data\n",
    "  X - velocity module\n",
    " rows of X correspond to velocity components at spatial locations\n",
    " columns of X correspond to timesteps\n",
    "     t_1 t_2.  .  t_n\n",
    " X = [u  u  .  .  .]  (x_1,y_1)\n",
    "     [v  v  .  .  .]  (x_1,y_1)\n",
    "     [w  w  .  .  .]  (x_1,y_1)\n",
    "     [u  u  .  .  .]  (x_2,y_2)\n",
    "     [v  v  .  .  .]  (x_2,y_2)\n",
    "     [w  w  .  .  .]  (x_2,y_2)\n",
    "     [.  .  .  .  .]   .\n",
    "     [.  .  .  .  .]   .\n",
    "     [.  .  .  .  .]   .\n",
    "'''\n",
    "\n",
    "input_filename = f\"modVcropRe{re}.csv\"\n",
    "X = dp.read_X_csv(input_dir + input_filename)\n",
    "X_train, X_test = train_test_split(\n",
    "    X.T,\n",
    "    test_size=0.5,\n",
    "    shuffle=False,\n",
    ")\n",
    "X_train = X_train.T\n",
    "X_test = X_test.T\n",
    "\n",
    "\n",
    "\n",
    "n, m = X_train.shape\n",
    "\n",
    "print(\"Data matrix X is n by m:\", n, \"x\", m, flush=True)\n",
    "\n",
    "\n",
    "# Erase cylinder from snapshot\n",
    "X_train_filt = dp.erase_cyl(X_train, mesh)\n",
    "X_test_filt = dp.erase_cyl(X_test, mesh)\n",
    "\n",
    "spatial_red = True\n",
    "# Standardize data. Sklearn uses differente notation from ours!!\n",
    "std_scaler = StandardScaler()\n",
    "if spatial_red:\n",
    "    #computes temporal mean (row-wise mean)\n",
    "    X_train_filt = std_scaler.fit_transform(X_train_filt.T).T\n",
    "    X_test_filt = std_scaler.fit_transform(X_test_filt.T).T\n",
    "else:\n",
    "    #computes spatial mean (column-wise mean)\n",
    "    X_train_filt = std_scaler.fit_transform(X_train_filt)\n",
    "    X_test_filt = std_scaler.fit_transform(X_test_filt)\n",
    "print(\"Snapshot points without cylinder\", X_train_filt.shape)"
   ]
  },
  {
   "cell_type": "markdown",
   "metadata": {},
   "source": [
    "#### Perform PCA"
   ]
  },
  {
   "cell_type": "code",
   "execution_count": 7,
   "metadata": {},
   "outputs": [
    {
     "name": "stdout",
     "output_type": "stream",
     "text": [
      "Time elapsed for PCA: 0.4208712577819824  s\n",
      "X_pca shape (27104, 12)\n"
     ]
    }
   ],
   "source": [
    "'''sklearn adopts different convention for the data matrix,\n",
    "that is, it will reduce the number of columns by default,\n",
    "leading to temporal reduction.'''\n",
    "start = time.time()\n",
    "pca = PCA(n_components=r_max)\n",
    "X_pca = pca.fit_transform(X_train_filt)\n",
    "end = time.time()\n",
    "print(\"Time elapsed for PCA:\", end - start, \" s\")\n",
    "print(\"X_pca shape\", X_pca.shape)"
   ]
  },
  {
   "cell_type": "markdown",
   "metadata": {},
   "source": [
    "### Post-process"
   ]
  },
  {
   "cell_type": "markdown",
   "metadata": {},
   "source": [
    "#### Save and plot PCA modes"
   ]
  },
  {
   "cell_type": "code",
   "execution_count": 8,
   "metadata": {},
   "outputs": [],
   "source": [
    "# save modes in csv and png files\n",
    "save_flag = True\n",
    "if save_flag:\n",
    "    out_dir = \"modes/\"\n",
    "    modesToSave = r_max\n",
    "    if modesToSave > X_pca.shape[1]:\n",
    "        print(\"Number of modes is greater than the number of components in X_modes\")\n",
    "    dp.save_modes(X_pca, out_dir, modesToSave, mesh)"
   ]
  },
  {
   "cell_type": "markdown",
   "metadata": {},
   "source": [
    "##### Data reconstruction for different number of components"
   ]
  },
  {
   "cell_type": "code",
   "execution_count": 10,
   "metadata": {},
   "outputs": [
    {
     "data": {
      "image/png": "[encoded data removed]",
      "text/plain": [
       "<Figure size 640x480 with 1 Axes>"
      ]
     },
     "metadata": {},
     "output_type": "display_data"
    }
   ],
   "source": [
    "X_reconstructed, err_rec = inverse_transf(X_train_filt, X_test_filt, r_max, r_step)\n",
    "# Save reconstruction errors for further post-processing\n",
    "np.savetxt(\"error_rec.csv\", err_rec, delimiter=\",\")\n",
    "dp.plot_save_reconst(err_rec, r_max, r_step, 'PCA')"
   ]
  }
 ],
 "metadata": {
  "kernelspec": {
   "display_name": "paper",
   "language": "python",
   "name": "python3"
  },
  "language_info": {
   "codemirror_mode": {
    "name": "ipython",
    "version": 3
   },
   "file_extension": ".py",
   "mimetype": "text/x-python",
   "name": "python",
   "nbconvert_exporter": "python",
   "pygments_lexer": "ipython3",
   "version": "3.10.13"
  }
 },
 "nbformat": 4,
 "nbformat_minor": 2
}
