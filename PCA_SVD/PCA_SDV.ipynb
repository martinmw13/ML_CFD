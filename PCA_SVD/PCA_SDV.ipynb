{
 "cells": [
  {
   "cell_type": "code",
   "execution_count": 1,
   "metadata": {},
   "outputs": [],
   "source": [
    "import matplotlib.pyplot as plt\n",
    "import numpy as np\n",
    "import time\n",
    "from sklearn.preprocessing import StandardScaler\n",
    "from sklearn.model_selection import train_test_split\n",
    "import os\n",
    "import sys\n",
    "sys.path.append(\"../dataprocess\")\n",
    "import dataprocess as dp\n",
    "\n",
    "# Parameters for latex rendering\n",
    "plt.rcParams[\"text.latex.preamble\"] = r\"\\usepackage{{amsmath}}\"\n",
    "plt.rcParams[\"text.usetex\"] = True"
   ]
  },
  {
   "cell_type": "markdown",
   "metadata": {},
   "source": [
    "##### Function definitions"
   ]
  },
  {
   "cell_type": "code",
   "execution_count": 2,
   "metadata": {},
   "outputs": [],
   "source": [
    "def plot_spectrum(s: np.ndarray):\n",
    "    \"\"\"Plot the singular value spectrum and normalized cumulative energy\n",
    "\n",
    "    Args:\n",
    "        s (np.ndarray): vector containing the singular values\n",
    "    \"\"\"\n",
    "    sigma = s\n",
    "    sigma_energy = np.cumsum(s)\n",
    "    # plot singular values and the cumulative energy\n",
    "    f, (ax1, ax2, ax3) = plt.subplots(1, 3, figsize=(10, 6), dpi=80)\n",
    "    # plot only up to the first 100 singular values\n",
    "    ax1.plot(sigma[0:99], \"ko\", markersize=3)\n",
    "    ax1.set_xlabel(r\"$\\text{Modos}$\")\n",
    "    ax1.set_ylabel(r\"$\\text{Valores singulares}$\")\n",
    "    ax1.set_title(r\"$\\text{PCA}$\")\n",
    "\n",
    "    ax2.plot(sigma[0:99], \"ko\", markersize=3)\n",
    "    ax2.semilogy()\n",
    "    ax2.set_xlabel(r\"$\\text{Modos}$\")\n",
    "    ax2.set_ylabel(r\"$\\text{Valores singulares}$\")\n",
    "    ax2.set_title(r\"$\\text{PCA, semi log-plot}$\")\n",
    "\n",
    "    ax3.plot(sigma_energy / np.sum(sigma), \"ko\", markersize=3)\n",
    "    ax3.set_xlabel(r\"$\\text{Modos}$\")\n",
    "    ax3.set_ylabel(r\"$\\text{Energía acumulada}$\")\n",
    "    ax3.set_title(r\"$\\text{Energía acumulada normalizada}$\")\n",
    "    f.tight_layout()\n",
    "    f.savefig(\"PCA_spectrum.png\", dpi=300)\n",
    "\n",
    "\n",
    "def inverse_transf(\n",
    "    u: np.ndarray,\n",
    "    s: np.ndarray,\n",
    "    vh: np.ndarray,\n",
    "    r_max: int,\n",
    "    r_step: int,\n",
    "    X_test: np.ndarray,\n",
    "):\n",
    "    \"\"\"Perform inverse transform and map from the embedded space to the original space\n",
    "\n",
    "    Args:\n",
    "        u (np.ndarray): left singular vectors from SVD\n",
    "        s (np.ndarray): singular values from SVD\n",
    "        vh (np.ndarray): right singular vectors from SVD\n",
    "        r_max (int): max number of modes to keep\n",
    "        r_step (int): mode number increment for calculating the reconstruction error\n",
    "        X_test (np.ndarray): test data matrix\n",
    "\n",
    "    Returns:\n",
    "        X_reconstructed (np.ndarray): reconstructed data with r_max modes\n",
    "        err_rec (np.ndarray): vector containing the reconstruction error for 1 to r_max modes\n",
    "    \"\"\"\n",
    "    err_rec = np.zeros(len(range(1, r_max + 1, r_step)))\n",
    "    i = 0\n",
    "    for r in range(1, r_max + 1, r_step):\n",
    "        S_r = np.diag(s[0:r])\n",
    "        U_r = u[:, 0:r]\n",
    "        Vh_r = vh[0:r, :]\n",
    "        # X_reconstructed =  np.matmul(np.matmul(X_test, Vh_r.T), Vh_r)\n",
    "        X_reconstructed = np.matmul(U_r, np.matmul(U_r.T, X_test))\n",
    "        err_rec[i] = np.linalg.norm(X_test - X_reconstructed) / np.linalg.norm(X_test)\n",
    "        i += 1\n",
    "    return X_reconstructed, err_rec"
   ]
  },
  {
   "cell_type": "markdown",
   "metadata": {},
   "source": [
    "#### Parameters"
   ]
  },
  {
   "cell_type": "code",
   "execution_count": 3,
   "metadata": {},
   "outputs": [],
   "source": [
    "# Mesh\n",
    "nx = 227  # X-direction nodes\n",
    "ny = 120  # Y-direction nodes\n",
    "# Domain:\n",
    "Lx = 17.665369  # Lx (Size of the box in x-direction)\n",
    "Ly = 9.0  # Ly (Size of the box in y-direction)\n",
    "# Cylinder coordinates:\n",
    "X_0 = 2.66537  # X coordinate of the center\n",
    "Y_0 = 4.5  # Y coordinate of the center\n",
    "r = 0.5  # Cylinder radius\n",
    "\n",
    "mesh = dp.Mesh(nx, ny, Lx, Ly, X_0, Y_0, r)\n",
    "\n",
    "# Data path\n",
    "re = 200\n",
    "input_dir = \"../data/\"\n",
    "input_filename = f'modVcropRe{re}.csv'\n",
    "# Max number of components and step for postprocess\n",
    "r_max = 12\n",
    "r_step = 1"
   ]
  },
  {
   "cell_type": "markdown",
   "metadata": {},
   "source": [
    "#### Data pre-processing"
   ]
  },
  {
   "cell_type": "code",
   "execution_count": 4,
   "metadata": {},
   "outputs": [
    {
     "name": "stdout",
     "output_type": "stream",
     "text": [
      "Reading data from: ../data/modV_train/modV_crop_re200.csv\n",
      "Reading data from: ../data/modV_test/modV_crop_re200.csv\n",
      "Data matrix X is n by m: 27240 x 1000\n",
      "Snapshot points without cylinder (27104,)\n"
     ]
    }
   ],
   "source": [
    "\"\"\" Read velocity data\n",
    "  X - velocity module\n",
    " rows of X correspond to velocity components at spatial locations\n",
    " columns of X correspond to timesteps\n",
    "     t_1 t_2.  .  t_n\n",
    " X = [u  u  .  .  .]  (x_1,y_1)\n",
    "     [v  v  .  .  .]  (x_1,y_1)\n",
    "     [w  w  .  .  .]  (x_1,y_1)\n",
    "     [u  u  .  .  .]  (x_2,y_2)\n",
    "     [v  v  .  .  .]  (x_2,y_2)\n",
    "     [w  w  .  .  .]  (x_2,y_2)\n",
    "     [.  .  .  .  .]   .\n",
    "     [.  .  .  .  .]   .\n",
    "     [.  .  .  .  .]   .\n",
    "\"\"\"\n",
    "\n",
    "input_filename = f\"modVcropRe{re}.csv\"\n",
    "X = dp.read_X_csv(input_dir + input_filename)\n",
    "X_train, X_test = train_test_split(\n",
    "    X.T,\n",
    "    test_size=0.5,\n",
    "    shuffle=False,\n",
    ")\n",
    "X_train = X_train.T\n",
    "X_test = X_test.T\n",
    "\n",
    "n, m = X_train.shape\n",
    "print(\"Data matrix X is n by m:\", n, \"x\", m, flush=True)\n",
    "\n",
    "# Erase cylinder from snapshot\n",
    "X_train_filt = dp.erase_cyl(X_train, mesh)\n",
    "X_test_filt = dp.erase_cyl(X_test, mesh)\n",
    "\n",
    "spatial_red = True\n",
    "# Standardize data. Sklearn uses differente notation from ours!!\n",
    "std_scaler = StandardScaler()\n",
    "if spatial_red:\n",
    "    #computes temporal mean (row-wise mean)\n",
    "    X_train_filt = std_scaler.fit_transform(X_train_filt.T).T\n",
    "    X_test_filt = std_scaler.fit_transform(X_test_filt.T).T\n",
    "else:\n",
    "    #computes spatial mean (column-wise mean)\n",
    "    X_train_filt = std_scaler.fit_transform(X_train_filt)\n",
    "    X_test_filt = std_scaler.fit_transform(X_test_filt)"
   ]
  },
  {
   "cell_type": "markdown",
   "metadata": {},
   "source": [
    "#### Perform PCA"
   ]
  },
  {
   "cell_type": "code",
   "execution_count": 5,
   "metadata": {},
   "outputs": [
    {
     "name": "stdout",
     "output_type": "stream",
     "text": [
      "Time elapsed for PCA: 1.6414015293121338  s\n"
     ]
    }
   ],
   "source": [
    "# First, center data\n",
    "start = time.time()\n",
    "u, s, vh = np.linalg.svd(X_train_filt, full_matrices=False)\n",
    "end = time.time()\n",
    "print(\"Time elapsed for PCA:\", end - start, \" s\")"
   ]
  },
  {
   "cell_type": "code",
   "execution_count": 6,
   "metadata": {},
   "outputs": [
    {
     "name": "stdout",
     "output_type": "stream",
     "text": [
      "<class 'numpy.ndarray'> <class 'numpy.ndarray'> <class 'numpy.ndarray'>\n",
      "(27104, 1000) (1000,) (1000, 1000)\n"
     ]
    }
   ],
   "source": [
    "print(type(u), type(s), type(vh))\n",
    "print(u.shape, s.shape, vh.shape)"
   ]
  },
  {
   "cell_type": "markdown",
   "metadata": {},
   "source": [
    "### Post-process"
   ]
  },
  {
   "cell_type": "markdown",
   "metadata": {},
   "source": [
    "##### Singular value spectrum and normalized cumulative energy"
   ]
  },
  {
   "cell_type": "code",
   "execution_count": 39,
   "metadata": {},
   "outputs": [],
   "source": [
    "plot_spectrum(s)"
   ]
  },
  {
   "cell_type": "markdown",
   "metadata": {},
   "source": [
    "#### Save and plot PCA modes"
   ]
  },
  {
   "cell_type": "code",
   "execution_count": 40,
   "metadata": {},
   "outputs": [],
   "source": [
    "# save modes in csv and png files\n",
    "save_flag = False\n",
    "if save_flag:\n",
    "    out_dir = \"modes/\"\n",
    "    modesToSave = r_max\n",
    "    dp.save_modes(u, out_dir, modesToSave, mesh)"
   ]
  },
  {
   "cell_type": "markdown",
   "metadata": {},
   "source": [
    "##### Data reconstruction"
   ]
  },
  {
   "cell_type": "code",
   "execution_count": 41,
   "metadata": {},
   "outputs": [
    {
     "data": {
      "image/png": "[encoded data removed]",
      "text/plain": [
       "<Figure size 640x480 with 1 Axes>"
      ]
     },
     "metadata": {},
     "output_type": "display_data"
    }
   ],
   "source": [
    "X_reconstructed, err_rec = inverse_transf(u, s, vh, r_max, r_step, X_test_filt)\n",
    "# Save reconstruction errors for further post-processing\n",
    "np.savetxt(\"error_rec.csv\", err_rec, delimiter=\",\")\n",
    "dp.plot_save_reconst(err_rec, r_max, r_step)"
   ]
  }
 ],
 "metadata": {
  "kernelspec": {
   "display_name": "paper",
   "language": "python",
   "name": "python3"
  },
  "language_info": {
   "codemirror_mode": {
    "name": "ipython",
    "version": 3
   },
   "file_extension": ".py",
   "mimetype": "text/x-python",
   "name": "python",
   "nbconvert_exporter": "python",
   "pygments_lexer": "ipython3",
   "version": "3.10.13"
  }
 },
 "nbformat": 4,
 "nbformat_minor": 2
}
