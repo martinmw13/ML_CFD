{
 "cells": [
  {
   "cell_type": "code",
   "execution_count": 4,
   "metadata": {},
   "outputs": [],
   "source": [
    "import matplotlib.pyplot as plt\n",
    "import numpy as np\n",
    "import pandas as pd\n",
    "import time\n",
    "import os\n",
    "import torch\n",
    "import torch.nn as nn\n",
    "from sklearn.preprocessing import StandardScaler\n",
    "import sys\n",
    "sys.path.append(\"../dataprocess\")\n",
    "import dataprocess as dp"
   ]
  },
  {
   "cell_type": "markdown",
   "metadata": {},
   "source": [
    "#### Parameters"
   ]
  },
  {
   "cell_type": "code",
   "execution_count": 5,
   "metadata": {},
   "outputs": [],
   "source": [
    "# Mesh\n",
    "nx = 227  # X-direction nodes\n",
    "ny = 120  # Y-direction nodes\n",
    "# Domain:\n",
    "Lx = 17.665369  # Lx (Size of the box in x-direction)\n",
    "Ly = 9.0  # Ly (Size of the box in y-direction)\n",
    "# Cylinder coordinates:\n",
    "X_0 = 2.66537  # X coordinate of the center\n",
    "Y_0 = 4.5  # Y coordinate of the center\n",
    "r = 0.5  # Cylinder radius\n",
    "\n",
    "mesh = dp.Mesh(nx, ny, Lx, Ly, X_0, Y_0, r)\n",
    "\n",
    "# Data path\n",
    "re = 50\n",
    "train_input_dir = \"../data/modV_train/\"\n",
    "input_filename = f'modV_crop_re{re}.csv'"
   ]
  },
  {
   "cell_type": "markdown",
   "metadata": {},
   "source": [
    "#### Data preprocessing"
   ]
  },
  {
   "cell_type": "code",
   "execution_count": 6,
   "metadata": {},
   "outputs": [
    {
     "name": "stdout",
     "output_type": "stream",
     "text": [
      "Reading data from: ../data/modV_train/modV_crop_re50.csv\n",
      "Data matrix X is n by m: 27240 x 1000\n",
      "Snapshot points without cylinder (27104,)\n"
     ]
    }
   ],
   "source": [
    "''' Read velocity data\n",
    "  X - velocity module\n",
    " rows of X correspond to velocity components at spatial locations\n",
    " columns of X correspond to timesteps\n",
    "     t_1 t_2.  .  t_n\n",
    " X = [u  u  .  .  .]  (x_1,y_1)\n",
    "     [v  v  .  .  .]  (x_1,y_1)\n",
    "     [w  w  .  .  .]  (x_1,y_1)\n",
    "     [u  u  .  .  .]  (x_2,y_2)\n",
    "     [v  v  .  .  .]  (x_2,y_2)\n",
    "     [w  w  .  .  .]  (x_2,y_2)\n",
    "     [.  .  .  .  .]   .\n",
    "     [.  .  .  .  .]   .\n",
    "     [.  .  .  .  .]   .\n",
    "'''\n",
    "X_train = dp.read_X_csv(os.path.join(train_input_dir, input_filename))\n",
    "# Scale data\n",
    "std_scaler = StandardScaler()\n",
    "X_train = std_scaler.fit_transform(X_train)\n",
    "\n",
    "n, m = X_train.shape\n",
    "\n",
    "print(\"Data matrix X is n by m:\", n, \"x\", m, flush=True)\n",
    "\n",
    "# Create mesh class instance\n",
    "mesh = dp.Mesh(nx, ny, Lx, Ly, X_0, Y_0, r)\n",
    "# Erase cylinder from snapshot\n",
    "X_train_filt = dp.erase_cyl(X_train, mesh)"
   ]
  },
  {
   "cell_type": "code",
   "execution_count": 2,
   "metadata": {},
   "outputs": [
    {
     "name": "stdout",
     "output_type": "stream",
     "text": [
      "Running on CPU\n"
     ]
    }
   ],
   "source": [
    "# Check if GPU can be used\n",
    "device = torch.device(\"cuda\" if torch.cuda.is_available() else \"cpu\")\n",
    "if torch.cuda.is_available():\n",
    "    print(\"Running on GPU\")\n",
    "    print(torch.cuda.get_device_name(device))\n",
    "else:\n",
    "    print(\"Running on CPU\")"
   ]
  },
  {
   "cell_type": "code",
   "execution_count": 8,
   "metadata": {},
   "outputs": [],
   "source": [
    "# Prepare dataset for pyTorch\n",
    "# default data arrangement in pytorch is different than ours, so we have to transpose X\n",
    "X_tensor = torch.from_numpy(X_train_filt.T)\n",
    "dataset = torch.utils.data.TensorDataset(X_tensor)\n",
    "batchsize = 128\n",
    "# Set seed for reproducible results\n",
    "seed = 42\n",
    "torch.manual_seed(seed)\n",
    "# shuffle data manually and save indices\n",
    "index_list = torch.randperm(len(dataset)).tolist()\n",
    "shuffled_dataset = torch.utils.data.Subset(dataset, index_list)\n",
    "data_loader = torch.utils.data.DataLoader(\n",
    "    shuffled_dataset, batch_size=batchsize, shuffle=False\n",
    ")"
   ]
  },
  {
   "cell_type": "markdown",
   "metadata": {},
   "source": [
    "#### Autoencoder"
   ]
  },
  {
   "cell_type": "code",
   "execution_count": 9,
   "metadata": {},
   "outputs": [],
   "source": [
    "# Define autoencoder network structure\n",
    "class Autoencoder_Linear(nn.Module):\n",
    "    def __init__(self, n):\n",
    "\n",
    "        super().__init__()\n",
    "        self.encoder = nn.Sequential(\n",
    "            nn.Linear(n, 8192),\n",
    "            nn.ReLU(),\n",
    "            nn.Linear(8192, 2048),\n",
    "            nn.ReLU(),\n",
    "            nn.Linear(2048, 512),\n",
    "            nn.ReLU(),\n",
    "            nn.Linear(512, 128),\n",
    "            nn.ReLU(),\n",
    "            nn.Linear(128, 32),\n",
    "            nn.ReLU(),\n",
    "            nn.Linear(32, 8),\n",
    "        )\n",
    "        self.decoder = nn.Sequential(\n",
    "            nn.Linear(8, 32),\n",
    "            nn.ReLU(),\n",
    "            nn.Linear(32, 128),\n",
    "            nn.ReLU(),\n",
    "            nn.Linear(128, 512),\n",
    "            nn.ReLU(),\n",
    "            nn.Linear(512, 2048),\n",
    "            nn.ReLU(),\n",
    "            nn.Linear(2048, 8192),\n",
    "            nn.ReLU(),\n",
    "            nn.Linear(8192, n),\n",
    "        )\n",
    "\n",
    "    def forward(self, x):\n",
    "        encoded = self.encoder(x)\n",
    "        decoded = self.decoder(encoded)\n",
    "        return decoded"
   ]
  },
  {
   "cell_type": "code",
   "execution_count": null,
   "metadata": {},
   "outputs": [],
   "source": [
    "# Define the model\n",
    "model = Autoencoder_Linear(n).to(device)\n",
    "\n",
    "# Try to load the training coefficients from the .pt file if it exists\n",
    "# Load model pre-trained parameters\n",
    "input_net = \"AE_net.pt\"\n",
    "if os.path.isfile(input_net):\n",
    "    try:\n",
    "        model.load_state_dict(torch.load(input_net))\n",
    "        print(\"Training coefficients loaded successfully from file:\", input_net)\n",
    "    except:\n",
    "        print(\"Error loading training coefficients from file:\", input_net)\n",
    "else:\n",
    "    print(\"File\", input_net, \"does not exist. Training coefficients were not loaded.\")"
   ]
  },
  {
   "cell_type": "code",
   "execution_count": 10,
   "metadata": {},
   "outputs": [],
   "source": [
    "# Define loss and optimiziation parameters\n",
    "criterion = nn.MSELoss()\n",
    "optimizer = torch.optim.Adamax(model.parameters(), lr=1e-3)\n",
    "scheduler = torch.optim.lr_scheduler.StepLR(optimizer, step_size=3000, gamma=0.1)\n",
    "scheduler_active_flag = True"
   ]
  },
  {
   "cell_type": "code",
   "execution_count": 11,
   "metadata": {},
   "outputs": [
    {
     "name": "stdout",
     "output_type": "stream",
     "text": [
      "Total elements in dataset: 1000\n",
      "Shape of the first element in dataset: torch.Size([27104])\n",
      "Data type of the first element in dataset: torch.float64\n"
     ]
    }
   ],
   "source": [
    "print(f\"Total elements in dataset: {len(dataset)}\")\n",
    "print(f\"Shape of the first element in dataset: {dataset[0][0].shape}\")\n",
    "print(f\"Data type of the first element in dataset: {dataset[0][0].dtype}\")"
   ]
  },
  {
   "cell_type": "code",
   "execution_count": 18,
   "metadata": {},
   "outputs": [
    {
     "name": "stdout",
     "output_type": "stream",
     "text": [
      "1 buenas torch.Size([128, 27240])\n",
      "torch.Size([128, 27240])\n"
     ]
    }
   ],
   "source": [
    "# Investigate data structure\n",
    "for epoch in range(1):\n",
    "    batch_iter = 0\n",
    "    loss_tot = 0.0\n",
    "    for x in data_loader:\n",
    "        print(f\"{len(x)} buenas {x[0].shape}\")\n",
    "        snapshot = x[0].type(torch.FloatTensor).to(device)\n",
    "        print(snapshot.size())\n",
    "        break"
   ]
  },
  {
   "cell_type": "markdown",
   "metadata": {},
   "source": [
    "#### Training loop"
   ]
  },
  {
   "cell_type": "code",
   "execution_count": 22,
   "metadata": {},
   "outputs": [
    {
     "name": "stdout",
     "output_type": "stream",
     "text": [
      "Epoch: 1, Total avg loss: 0.0107995179\n",
      "Time elapsed for AE: 43.00983142852783\n"
     ]
    }
   ],
   "source": [
    "# Start the training loop\n",
    "num_epochs = 500  # 9000\n",
    "outputs = []\n",
    "loss_list = []\n",
    "start = time.time()\n",
    "for epoch in range(num_epochs):\n",
    "    batch_iter = 0\n",
    "    loss_tot = 0.0\n",
    "\n",
    "    for x in data_loader:\n",
    "        # if data_loader is configured to load minibatches of data, then in each iteration of the loop, you're processing a single minibatch, rather than the entire dataset\n",
    "        # x is a list originally, so we have to get the first element which is the tensor\n",
    "        snapshot = x[0].type(torch.FloatTensor).to(device)\n",
    "        recon = model(snapshot)\n",
    "        loss = criterion(recon, snapshot)\n",
    "\n",
    "        optimizer.zero_grad()\n",
    "        loss.backward()\n",
    "        optimizer.step()\n",
    "        loss_tot += loss.item()\n",
    "        # Save results for the last epoch\n",
    "        if epoch == num_epochs - 1:\n",
    "            outputs.append((epoch + 1, batch_iter, snapshot, recon.detach()))\n",
    "        batch_iter += 1\n",
    "\n",
    "    # Calculate and print total average loss over all batches\n",
    "    loss_tot = loss_tot / batch_iter\n",
    "    loss_list.append((epoch + 1, loss_tot))\n",
    "    # print(f'Epoch: {epoch+1}, Total avg loss: {loss_tot:.10f}', flush = True)\n",
    "    if scheduler_active_flag:\n",
    "        scheduler.step()\n",
    "\n",
    "end = time.time()\n",
    "print(\"Time elapsed for AE:\", end - start)"
   ]
  },
  {
   "cell_type": "code",
   "execution_count": 26,
   "metadata": {},
   "outputs": [
    {
     "name": "stdout",
     "output_type": "stream",
     "text": [
      "Number of elements in outputs: 8\n",
      "Element 0:\n",
      "Epoch: 1, Batch: 0\n",
      "Snapshot shape: torch.Size([128, 27240])\n",
      "Recon shape: torch.Size([128, 27240])\n"
     ]
    }
   ],
   "source": [
    "# Investigate ouputs content\n",
    "print(\"Number of elements in outputs:\", len(outputs))\n",
    "item = outputs[0]\n",
    "epoch_num, batch_num, snapshot, recon = item\n",
    "print(f\"Element 0:\")\n",
    "print(f\"Epoch: {epoch_num}, Batch: {batch_num}\")\n",
    "print(f\"Snapshot shape: {snapshot.shape}\")\n",
    "print(f\"Recon shape: {recon.shape}\")"
   ]
  },
  {
   "cell_type": "markdown",
   "metadata": {},
   "source": [
    "### Post-process"
   ]
  },
  {
   "cell_type": "code",
   "execution_count": 27,
   "metadata": {},
   "outputs": [],
   "source": [
    "# Organize results for saving and visualization\n",
    "# Unshuffle results and reconstructions\n",
    "outx_shuffled = []\n",
    "outxrec_shuffled = []\n",
    "for i in range(int(np.ceil(m / batchsize))):\n",
    "    # output[i][0,1,2,3] -> epoch_num, batch_num, snapshot, recon\n",
    "    outx_shuffled.append(outputs[i][2])\n",
    "    outxrec_shuffled.append(outputs[i][3])\n",
    "# Concatenates  tensors from list into a single tensor\n",
    "x_out_shuffled = torch.cat(outx_shuffled).detach().cpu().numpy()\n",
    "xrec_out_shuffled = torch.cat(outxrec_shuffled).detach().cpu().numpy()\n",
    "\n",
    "x_out = np.zeros(x_out_shuffled.shape)\n",
    "xrec_out = np.zeros(xrec_out_shuffled.shape)\n",
    "\n",
    "j = 0\n",
    "for i in index_list:\n",
    "    x_out[i, :] = x_out_shuffled[j, :]\n",
    "    xrec_out[i, :] = xrec_out_shuffled[j, :]\n",
    "    j += 1"
   ]
  },
  {
   "cell_type": "code",
   "execution_count": 28,
   "metadata": {},
   "outputs": [
    {
     "name": "stdout",
     "output_type": "stream",
     "text": [
      "Relative reconstruction error: 1.42596e-01\n"
     ]
    }
   ],
   "source": [
    "# Reconstruction relative error\n",
    "error_rec = np.linalg.norm(x_out - xrec_out) / np.linalg.norm(x_out)\n",
    "# bottleneck layer (low dimensional space)\n",
    "bottleneck = 8\n",
    "np.savetxt(f\"error_rec_{bottleneck}.txt\", [error_rec], fmt=\"%.5e\")\n",
    "print(\"Relative reconstruction error: %.5e\" % (error_rec))\n",
    "\n",
    "# Save AE parameters\n",
    "torch.save(model.state_dict(), \"./AE_net\" + \".pt\")"
   ]
  },
  {
   "cell_type": "code",
   "execution_count": null,
   "metadata": {},
   "outputs": [],
   "source": [
    "# Save loss\n",
    "df = pd.DataFrame(loss_list, columns=[\"Epoch\", \"Loss\"])\n",
    "df.to_csv(\"loss.csv\", index=False)\n",
    "\n",
    "# Plot loss as a function of the number of epochs\n",
    "loss_mat = np.asarray(loss_list)\n",
    "np.savetxt(\"loss_mat.csv\", loss_mat, delimiter=\",\")\n",
    "plt.figure(1)\n",
    "plt.plot(loss_mat[:, 0], loss_mat[:, 1], linestyle=\"-\")\n",
    "plt.xlabel(\"Epochs\")\n",
    "plt.ylabel(\"MSE Loss\")\n",
    "plt.title(\"AE Loss\")\n",
    "plt.semilogy()\n",
    "plt.tight_layout()\n",
    "plt.savefig(\"AE_loss.png\", dpi=200)"
   ]
  },
  {
   "cell_type": "markdown",
   "metadata": {},
   "source": []
  }
 ],
 "metadata": {
  "kernelspec": {
   "display_name": "paper",
   "language": "python",
   "name": "python3"
  },
  "language_info": {
   "codemirror_mode": {
    "name": "ipython",
    "version": 3
   },
   "file_extension": ".py",
   "mimetype": "text/x-python",
   "name": "python",
   "nbconvert_exporter": "python",
   "pygments_lexer": "ipython3",
   "version": "3.10.13"
  }
 },
 "nbformat": 4,
 "nbformat_minor": 2
}
