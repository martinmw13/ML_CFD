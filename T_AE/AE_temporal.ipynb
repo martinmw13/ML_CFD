{
 "cells": [
  {
   "cell_type": "code",
   "execution_count": 2,
   "metadata": {},
   "outputs": [],
   "source": [
    "import matplotlib.pyplot as plt\n",
    "import numpy as np\n",
    "import pandas as pd\n",
    "import time\n",
    "import os\n",
    "import torch\n",
    "import torch.nn as nn\n",
    "from sklearn.preprocessing import StandardScaler\n",
    "import sys\n",
    "sys.path.append(\"../dataprocess\")\n",
    "import dataprocess as dp"
   ]
  },
  {
   "cell_type": "markdown",
   "metadata": {},
   "source": [
    "#### Parameters"
   ]
  },
  {
   "cell_type": "code",
   "execution_count": 173,
   "metadata": {},
   "outputs": [],
   "source": [
    "# Mesh\n",
    "nx = 227  # X-direction nodes\n",
    "ny = 120  # Y-direction nodes\n",
    "# Domain:\n",
    "Lx = 17.665369  # Lx (Size of the box in x-direction)\n",
    "Ly = 9.0  # Ly (Size of the box in y-direction)\n",
    "# Cylinder coordinates:\n",
    "X_0 = 2.66537  # X coordinate of the center\n",
    "Y_0 = 4.5  # Y coordinate of the center\n",
    "r = 0.5  # Cylinder radius\n",
    "\n",
    "mesh = dp.Mesh(nx, ny, Lx, Ly, X_0, Y_0, r)\n",
    "\n",
    "# Data path\n",
    "re = 50\n",
    "train_input_dir = \"../data/modV_train/\"\n",
    "input_filename = f'modV_crop_re{re}.csv'"
   ]
  },
  {
   "cell_type": "markdown",
   "metadata": {},
   "source": [
    "#### Data preprocessing"
   ]
  },
  {
   "cell_type": "code",
   "execution_count": 174,
   "metadata": {},
   "outputs": [
    {
     "name": "stdout",
     "output_type": "stream",
     "text": [
      "Reading data from: ../data/modV_train/modV_crop_re50.csv\n",
      "Data matrix X is n by m: 27240 x 1000\n",
      "Snapshot points without cylinder (27104,)\n"
     ]
    }
   ],
   "source": [
    "''' Read velocity data\n",
    "  X - velocity module\n",
    " rows of X correspond to velocity components at spatial locations\n",
    " columns of X correspond to timesteps\n",
    "     t_1 t_2.  .  t_n\n",
    " X = [u  u  .  .  .]  (x_1,y_1)\n",
    "     [v  v  .  .  .]  (x_1,y_1)\n",
    "     [w  w  .  .  .]  (x_1,y_1)\n",
    "     [u  u  .  .  .]  (x_2,y_2)\n",
    "     [v  v  .  .  .]  (x_2,y_2)\n",
    "     [w  w  .  .  .]  (x_2,y_2)\n",
    "     [.  .  .  .  .]   .\n",
    "     [.  .  .  .  .]   .\n",
    "     [.  .  .  .  .]   .\n",
    "'''\n",
    "X_train = dp.read_X_csv(os.path.join(train_input_dir, input_filename))\n",
    "\n",
    "# Scale data\n",
    "std_scaler = StandardScaler()\n",
    "X_train = std_scaler.fit_transform(X_train)\n",
    "\n",
    "n, m = X_train.shape\n",
    "\n",
    "print(\"Data matrix X is n by m:\", n, \"x\", m, flush=True)\n",
    "\n",
    "# Erase cylinder from snapshot\n",
    "X_train_filt = dp.erase_cyl(X_train, mesh)"
   ]
  },
  {
   "cell_type": "code",
   "execution_count": 175,
   "metadata": {},
   "outputs": [
    {
     "name": "stdout",
     "output_type": "stream",
     "text": [
      "Running on CPU\n"
     ]
    }
   ],
   "source": [
    "# Check if GPU can be used\n",
    "device = torch.device(\"cuda\" if torch.cuda.is_available() else \"cpu\")\n",
    "if torch.cuda.is_available():\n",
    "    print(\"Running on GPU\")\n",
    "    print(torch.cuda.get_device_name(device))\n",
    "else:\n",
    "    print(\"Running on CPU\")"
   ]
  },
  {
   "cell_type": "code",
   "execution_count": 176,
   "metadata": {},
   "outputs": [],
   "source": [
    "# Prepare dataset for pyTorch\n",
    "''' default data arrangement in pytorch is different than ours,\n",
    "    so by not transposing we get temporal reduction'''\n",
    "X_tensor = torch.from_numpy(X_train_filt)\n",
    "dataset = torch.utils.data.TensorDataset(X_tensor)\n",
    "batchsize = 256\n",
    "# Set seed for reproducible results\n",
    "seed = 42\n",
    "torch.manual_seed(seed)\n",
    "# shuffle data manually and save indices\n",
    "index_list = torch.randperm(len(dataset)).tolist()\n",
    "shuffled_dataset = torch.utils.data.Subset(dataset, index_list)\n",
    "data_loader = torch.utils.data.DataLoader(\n",
    "    shuffled_dataset, batch_size=batchsize, shuffle=False\n",
    ")"
   ]
  },
  {
   "cell_type": "markdown",
   "metadata": {},
   "source": [
    "#### Autoencoder"
   ]
  },
  {
   "cell_type": "code",
   "execution_count": 177,
   "metadata": {},
   "outputs": [],
   "source": [
    "# Define autoencoder network structure\n",
    "class Autoencoder_Linear(nn.Module):\n",
    "    def __init__(self, m):\n",
    "\n",
    "        super().__init__()\n",
    "        self.encoder = nn.Sequential(\n",
    "            nn.Linear(m, 512),\n",
    "            nn.ReLU(),\n",
    "            nn.Linear(512, 256),\n",
    "            nn.ReLU(),\n",
    "            nn.Linear(256, 128),\n",
    "            nn.ReLU(),\n",
    "            nn.Linear(128, 64),\n",
    "            nn.ReLU(),\n",
    "            nn.Linear(64, 32),\n",
    "            nn.ReLU(),\n",
    "            nn.Linear(32, 16),\n",
    "            nn.ReLU(),\n",
    "            nn.Linear(16, 8),\n",
    "        )\n",
    "        self.decoder = nn.Sequential(\n",
    "            nn.Linear(8, 16),\n",
    "            nn.ReLU(),\n",
    "            nn.Linear(16, 32),\n",
    "            nn.ReLU(),\n",
    "            nn.Linear(32, 64),\n",
    "            nn.ReLU(),\n",
    "            nn.Linear(64, 128),\n",
    "            nn.ReLU(),\n",
    "            nn.Linear(128, 256),\n",
    "            nn.ReLU(),\n",
    "            nn.Linear(256, 512),\n",
    "            nn.ReLU(),\n",
    "            nn.Linear(512, m),\n",
    "        )\n",
    "\n",
    "    def forward(self, x):\n",
    "        # encoded is the low dimensional embedding\n",
    "        encoded = self.encoder(x)\n",
    "        decoded = self.decoder(encoded)\n",
    "        return encoded, decoded"
   ]
  },
  {
   "cell_type": "code",
   "execution_count": 178,
   "metadata": {},
   "outputs": [],
   "source": [
    "# Define the model\n",
    "model = Autoencoder_Linear(m).to(device)\n",
    "# Define loss and optimiziation parameters\n",
    "criterion = nn.MSELoss()\n",
    "optimizer = torch.optim.Adamax(model.parameters(), lr=1e-3)\n",
    "scheduler = torch.optim.lr_scheduler.StepLR(optimizer, step_size=3000, gamma=0.1)\n",
    "scheduler_active_flag = True"
   ]
  },
  {
   "cell_type": "code",
   "execution_count": 179,
   "metadata": {},
   "outputs": [
    {
     "name": "stdout",
     "output_type": "stream",
     "text": [
      "Total elements in dataset: 27104\n",
      "Shape of the first element in dataset: torch.Size([1000])\n",
      "Data type of the first element in dataset: torch.float64\n"
     ]
    }
   ],
   "source": [
    "print(f\"Total elements in dataset: {len(dataset)}\")\n",
    "print(f\"Shape of the first element in dataset: {dataset[0][0].shape}\")\n",
    "print(f\"Data type of the first element in dataset: {dataset[0][0].dtype}\")"
   ]
  },
  {
   "cell_type": "markdown",
   "metadata": {},
   "source": [
    "#### Training loop"
   ]
  },
  {
   "cell_type": "code",
   "execution_count": 180,
   "metadata": {},
   "outputs": [
    {
     "name": "stdout",
     "output_type": "stream",
     "text": [
      "Time elapsed for AE: 1.7801337242126465\n"
     ]
    }
   ],
   "source": [
    "# Start the training loop\n",
    "num_epochs = 1  # 9000\n",
    "outputs = []\n",
    "loss_list = []\n",
    "start = time.time()\n",
    "for epoch in range(num_epochs):\n",
    "    batch_iter = 0\n",
    "    loss_tot = 0.0\n",
    "    for x in data_loader:\n",
    "        # x is a list originally, so we have to get the first element which is the tensor\n",
    "        snapshot = x[0].to(device)\n",
    "        snapshot = snapshot.type(torch.FloatTensor).to(device)\n",
    "        low_dim, recon = model(snapshot)\n",
    "        loss = criterion(recon, snapshot)\n",
    "\n",
    "        optimizer.zero_grad()\n",
    "        loss.backward()\n",
    "        optimizer.step()\n",
    "        loss_tot += loss.item()\n",
    "\n",
    "        # Save results for the last epoch\n",
    "        if epoch == num_epochs - 1:\n",
    "            outputs.append((epoch + 1, batch_iter, snapshot, recon, low_dim))\n",
    "        batch_iter += 1\n",
    "\n",
    "    # Calculate and print total average loss over all batches\n",
    "    loss_tot = loss_tot / batch_iter\n",
    "    loss_list.append((epoch, loss_tot))\n",
    "    # print(f'Epoch: {epoch+1}, Total avg loss: {loss_tot:.10f}', flush = True)\n",
    "    scheduler.step()\n",
    "\n",
    "end = time.time()\n",
    "print(\"Time elapsed for AE:\", end - start)"
   ]
  },
  {
   "cell_type": "code",
   "execution_count": 181,
   "metadata": {},
   "outputs": [
    {
     "name": "stdout",
     "output_type": "stream",
     "text": [
      "Number of elements in outputs: 106\n",
      "Element 0:\n",
      "Epoch: 1, Batch: 0\n",
      "Snapshot shape: torch.Size([256, 1000])\n",
      "Recon shape: torch.Size([256, 1000])\n",
      "Low dim shape: torch.Size([256, 8])\n"
     ]
    }
   ],
   "source": [
    "# Investiate ouputs content\n",
    "print(\"Number of elements in outputs:\", len(outputs))\n",
    "item = outputs[0]\n",
    "epoch_num, batch_num, snapshot, recon, low_dim = item\n",
    "print(f\"Element 0:\")\n",
    "print(f\"Epoch: {epoch_num}, Batch: {batch_num}\")\n",
    "print(f\"Snapshot shape: {snapshot.shape}\")\n",
    "print(f\"Recon shape: {recon.shape}\")\n",
    "print(f\"Low dim shape: {low_dim.shape}\")"
   ]
  },
  {
   "cell_type": "markdown",
   "metadata": {},
   "source": [
    "### Post-process"
   ]
  },
  {
   "cell_type": "code",
   "execution_count": 182,
   "metadata": {},
   "outputs": [],
   "source": [
    "outx = []\n",
    "outxrec = []\n",
    "outembed = []\n",
    "for i in range(int(np.ceil(n / batchsize))):\n",
    "    outx.append(outputs[i][2])  # original data point\n",
    "    outxrec.append(outputs[i][3])  # reconstructed data point\n",
    "    outembed.append(outputs[i][4])  # embedded data point\n",
    "\n",
    "# Organize results for saving and visualization\n",
    "# Unshuffle results and reconstructions\n",
    "outx_shuffled = []\n",
    "outxrec_shuffled = []\n",
    "outembed_shuffled = []\n",
    "for i in range(int(np.ceil(n / batchsize))):\n",
    "    outx_shuffled.append(outputs[i][2])\n",
    "    outxrec_shuffled.append(outputs[i][3])\n",
    "    outembed_shuffled.append(outputs[i][4])\n",
    "x_out_shuffled = torch.cat(outx_shuffled).detach().cpu().numpy()\n",
    "xrec_out_shuffled = torch.cat(outxrec_shuffled).detach().cpu().numpy()\n",
    "embed_out_shuffled = torch.cat(outembed_shuffled).detach().cpu().numpy()\n",
    "\n",
    "x_out = np.zeros(x_out_shuffled.shape)\n",
    "xrec_out = np.zeros(xrec_out_shuffled.shape)\n",
    "embed_out = np.zeros(embed_out_shuffled.shape)\n",
    "\n",
    "j = 0\n",
    "for i in index_list:\n",
    "    x_out[i, :] = x_out_shuffled[j, :]\n",
    "    xrec_out[i, :] = xrec_out_shuffled[j, :]\n",
    "    embed_out[i, :] = embed_out_shuffled[j, :]\n",
    "    j += 1"
   ]
  },
  {
   "cell_type": "markdown",
   "metadata": {},
   "source": [
    "### Save modes and reconstruction error"
   ]
  },
  {
   "cell_type": "code",
   "execution_count": 183,
   "metadata": {},
   "outputs": [
    {
     "data": {
      "text/plain": [
       "<Figure size 640x480 with 0 Axes>"
      ]
     },
     "metadata": {},
     "output_type": "display_data"
    }
   ],
   "source": [
    "# save modes in csv and png files\n",
    "out_dir = \"modes/\"\n",
    "dp.save_modes(embed_out, out_dir, mesh)"
   ]
  },
  {
   "cell_type": "code",
   "execution_count": 184,
   "metadata": {},
   "outputs": [
    {
     "name": "stdout",
     "output_type": "stream",
     "text": [
      "Relative reconstruction error: 7.20698e-01\n"
     ]
    }
   ],
   "source": [
    "# Reconstruction relative error\n",
    "error_rec = np.linalg.norm(x_out - xrec_out) / np.linalg.norm(x_out)\n",
    "# bottleneck layer (low dimensional space)\n",
    "bottleneck = 8\n",
    "np.savetxt(f\"error_rec_{bottleneck}.txt\", [error_rec], fmt=\"%.5e\")\n",
    "print(\"Relative reconstruction error: %.5e\" % (error_rec))\n",
    "\n",
    "# Save AE parameters\n",
    "torch.save(model.state_dict(), \"./T_AE_net\" + \".pt\")"
   ]
  },
  {
   "cell_type": "code",
   "execution_count": null,
   "metadata": {},
   "outputs": [],
   "source": [
    "# Save loss\n",
    "df = pd.DataFrame(loss_list, columns=[\"Epoch\", \"Loss\"])\n",
    "df.to_csv(\"loss.csv\", index=False)\n",
    "\n",
    "# Plot loss as a function of the number of epochs\n",
    "loss_mat = np.asarray(loss_list)\n",
    "np.savetxt(\"loss_mat.csv\", loss_mat, delimiter=\",\")\n",
    "plt.figure(1)\n",
    "plt.plot(loss_mat[:, 0], loss_mat[:, 1], linestyle=\"-\")\n",
    "plt.xlabel(\"Epochs\")\n",
    "plt.ylabel(\"MSE Loss\")\n",
    "plt.title(\"AE Loss\")\n",
    "plt.semilogy()\n",
    "plt.tight_layout()\n",
    "plt.savefig(\"T_AE_loss.png\", dpi=200)"
   ]
  }
 ],
 "metadata": {
  "kernelspec": {
   "display_name": "paper",
   "language": "python",
   "name": "python3"
  },
  "language_info": {
   "codemirror_mode": {
    "name": "ipython",
    "version": 3
   },
   "file_extension": ".py",
   "mimetype": "text/x-python",
   "name": "python",
   "nbconvert_exporter": "python",
   "pygments_lexer": "ipython3",
   "version": "3.10.13"
  }
 },
 "nbformat": 4,
 "nbformat_minor": 2
}
