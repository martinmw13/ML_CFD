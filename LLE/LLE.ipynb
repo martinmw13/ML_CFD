{
 "cells": [
  {
   "cell_type": "code",
   "execution_count": 1,
   "metadata": {},
   "outputs": [],
   "source": [
    "import numpy as np\n",
    "from sklearn.manifold import LocallyLinearEmbedding\n",
    "from sklearn.preprocessing import StandardScaler\n",
    "from sklearn.manifold._locally_linear import barycenter_kneighbors_graph\n",
    "import time\n",
    "import os\n",
    "import sys\n",
    "sys.path.append(\"../dataprocess\")\n",
    "import dataprocess as dp"
   ]
  },
  {
   "cell_type": "markdown",
   "metadata": {},
   "source": [
    "#### LLE functions"
   ]
  },
  {
   "cell_type": "code",
   "execution_count": 76,
   "metadata": {},
   "outputs": [],
   "source": [
    "def performLLE(X: np.ndarray, k_NN: int, r: int, reg: float, transpose_flag: bool):\n",
    "    \"\"\"Perform Locally Linear Embedding with scikit-learn\n",
    "\n",
    "    Args:\n",
    "        X (np.ndarray): data matrix\n",
    "        k_NN (int): number of nearest neighbors\n",
    "        r (int): number of components to keep in the latent space\n",
    "        reg (float): regularization parameter\n",
    "        transpose_flag (bool): temporal vs spatial arrangement of data\n",
    "\n",
    "    Returns:\n",
    "        X_lle (LocallyLinearEmbedding): LLE object,\n",
    "        containing embedded vectors\n",
    "    \"\"\"\n",
    "\n",
    "    start = time.time()\n",
    "    embedding = LocallyLinearEmbedding(\n",
    "        n_components=r, n_neighbors=k_NN, reg=reg, random_state=42\n",
    "    )\n",
    "    if not transpose_flag:\n",
    "        \"\"\"the scikit-learn algorithm by default has a different data\n",
    "        arrangement than our definition above\n",
    "         By default it will reduce the size of the columns (temporal embedding),\n",
    "         while our default is to reduce the size of the rows (spatial reduction)\n",
    "         !!Note that if the tranpose_flag = True, i.e, we are doing temporal reduction,\n",
    "         the RAM requirement is very high!!!\n",
    "         Temporal reduction (transpose_flag = True) needs a much longer computational\n",
    "         time than spatial reduction (transpose_flag = False)\"\"\"\n",
    "        X = X.T\n",
    "    X_lle = embedding.fit(X)\n",
    "    end = time.time()\n",
    "\n",
    "    print(\"Time elapsed for LLE embedding:\", end - start, \" s\", flush=True)\n",
    "    print(\"Shape after embedding:\", X_lle.embedding_.shape, flush=True)\n",
    "\n",
    "    return X_lle\n",
    "\n",
    "\n",
    "def inverseTransform(\n",
    "    X_test: np.ndarray,\n",
    "    X_lle: LocallyLinearEmbedding,\n",
    "    r_max: int,\n",
    "    r_step: int,\n",
    "    k_NN: int,\n",
    "    reg: float,\n",
    "    transpose_flag: bool,\n",
    "):\n",
    "    \"\"\"Mapping back to the original space from the latent space and\n",
    "       calculating reconstruction errors\n",
    "\n",
    "    Args:\n",
    "        X_test (np.ndarray): test data matrix\n",
    "        X_lle (LocallyLinearEmbedding): LLE object\n",
    "        r_max (int): max number of components used for reconstruction\n",
    "        r_step (int): mode number increment for calculating the reconstruction error\n",
    "        k_NN (int): number of nearest neighbors used for LLE\n",
    "        reg (float): regularization parameter\n",
    "        transpose_flag (bool): temporal vs spatial arrangement of data\n",
    "\n",
    "    Returns:\n",
    "        X_reconstructed (np.ndarray): reconstructed data matrix with r_max modes\n",
    "        err_rec (np.ndarray): vector containing the reconstruction error for 1 to r_max modes    \"\"\"\n",
    "\n",
    "    err_rec = np.zeros(len(range(1, r_max + 1, r_step)))\n",
    "\n",
    "    if not transpose_flag:\n",
    "        # the scikit-learn algorithm by default has a different data\n",
    "        # arrangement than our definition\n",
    "        X_test = X_test.T\n",
    "    X_test_trans = X_lle.transform(X_test)\n",
    "    i = 0\n",
    "    for r in range(1, r_max + 1, r_step):\n",
    "        # get the first r components of the embedded vectors\n",
    "        Y = X_test_trans[:, 0:r]\n",
    "        # calculate the weights for expressing each point in the embedded space\n",
    "        # as a linear combination of its neighbors\n",
    "        W = barycenter_kneighbors_graph(Y, n_neighbors=k_NN, reg=reg)\n",
    "        # reconstruct the data points in the high dimensional space from its neighbors\n",
    "        # using the weights calculated based on the embedded space\n",
    "        X_reconstructed = W.dot(X_test)\n",
    "        # calculate reconstruction error over all snapshots using Frobenius norm\n",
    "        err_rec[i] = np.linalg.norm(X_test - X_reconstructed) / np.linalg.norm(X_test)\n",
    "        i += 1\n",
    "    return X_reconstructed, err_rec"
   ]
  },
  {
   "cell_type": "markdown",
   "metadata": {},
   "source": [
    "#### Parameters"
   ]
  },
  {
   "cell_type": "code",
   "execution_count": 77,
   "metadata": {},
   "outputs": [],
   "source": [
    "# Mesh\n",
    "nx = 227  # X-direction nodes\n",
    "ny = 120  # Y-direction nodes\n",
    "# Domain:\n",
    "Lx = 17.665369  # Lx (Size of the box in x-direction)\n",
    "Ly = 9.0  # Ly (Size of the box in y-direction)\n",
    "# Cylinder coordinates:\n",
    "X_0 = 2.66537  # X coordinate of the center\n",
    "Y_0 = 4.5  # Y coordinate of the center\n",
    "r = 0.5  # Cylinder radius\n",
    "\n",
    "mesh = dp.Mesh(nx, ny, Lx, Ly, X_0, Y_0, r)\n",
    "\n",
    "# Data path\n",
    "re = 100\n",
    "train_input_dir = \"../data/modV_train/\"\n",
    "test_input_dir = \"../data/modV_test/\"\n",
    "input_filename = f'modV_crop_re{re}.csv'"
   ]
  },
  {
   "cell_type": "markdown",
   "metadata": {},
   "source": [
    "#### Data pre-processing"
   ]
  },
  {
   "cell_type": "code",
   "execution_count": null,
   "metadata": {},
   "outputs": [],
   "source": [
    "''' Read velocity data\n",
    "  X - velocity module\n",
    " rows of X correspond to velocity components at spatial locations\n",
    " columns of X correspond to timesteps\n",
    "     t_1 t_2.  .  t_n\n",
    " X = [u  u  .  .  .]  (x_1,y_1)\n",
    "     [v  v  .  .  .]  (x_1,y_1)\n",
    "     [w  w  .  .  .]  (x_1,y_1)\n",
    "     [u  u  .  .  .]  (x_2,y_2)\n",
    "     [v  v  .  .  .]  (x_2,y_2)\n",
    "     [w  w  .  .  .]  (x_2,y_2)\n",
    "     [.  .  .  .  .]   .\n",
    "     [.  .  .  .  .]   .\n",
    "     [.  .  .  .  .]   .\n",
    "'''\n",
    "X_train = dp.read_X_csv(os.path.join(train_input_dir, input_filename))\n",
    "X_test = dp.read_X_csv(os.path.join(train_input_dir, input_filename))\n",
    "\n",
    "# Scale data\n",
    "std_scaler = StandardScaler()\n",
    "X_train = std_scaler.fit_transform(X_train)\n",
    "X_test = std_scaler.fit_transform(X_test)\n",
    "\n",
    "n, m = X_train.shape\n",
    "\n",
    "print(\"Data matrix X is n by m:\", n, \"x\", m, flush=True)\n",
    "\n",
    "# Create mesh class instance\n",
    "mesh = dp.Mesh(nx, ny, Lx, Ly, X_0, Y_0, r)\n",
    "# Erase cylinder from snapshot\n",
    "X_train_filt = dp.erase_cyl(X_train, mesh)\n",
    "X_test_filt = dp.erase_cyl(X_test, mesh)"
   ]
  },
  {
   "cell_type": "markdown",
   "metadata": {},
   "source": [
    "#### Perform LLE"
   ]
  },
  {
   "cell_type": "code",
   "execution_count": null,
   "metadata": {},
   "outputs": [
    {
     "name": "stdout",
     "output_type": "stream",
     "text": [
      "Time elapsed for LLE embedding: 2.160891532897949  s\n",
      "Shape after embedding: (1000, 12)\n"
     ]
    }
   ],
   "source": [
    "# k_NN - number of nearest neighbors used for LLE (30 for spatial reduction, 300 for temporal reduction)\n",
    "# r_max - number of components to be kept in the latent space\n",
    "# reg - regularization parameter\n",
    "k_NN = 10\n",
    "r_max = 12\n",
    "reg = 1e-9\n",
    "# transpose_flag - temporal vs spatial arrangement of data\n",
    "#        if True: temporal size of the data will be reduced (leading to spatial modes)\n",
    "#        if False: spatial size of the data will be reduced (NOT leading to spatial modes)\n",
    "transpose_flag = False\n",
    "\n",
    "X_lle = performLLE(X_train_filt, k_NN, r_max, reg, transpose_flag)"
   ]
  },
  {
   "cell_type": "markdown",
   "metadata": {},
   "source": [
    "##### Save and plot LLE modes"
   ]
  },
  {
   "cell_type": "code",
   "execution_count": null,
   "metadata": {},
   "outputs": [],
   "source": [
    "# save modes in csv and png files\n",
    "save_flag = True\n",
    "if save_flag:\n",
    "    outfile_dir = \"modes/\"\n",
    "    modesToSave = r_max\n",
    "    if modesToSave > X_lle.embedding_.shape[1]:\n",
    "        modes = X_lle.embedding_.shape[1]\n",
    "        print(\"Max number of modes is\", X_lle.embedding_.shape[1])\n",
    "    else:\n",
    "        dp.save_modes(X_lle, outfile_dir, modesToSave, mesh)"
   ]
  },
  {
   "cell_type": "markdown",
   "metadata": {},
   "source": [
    "##### Data reconstruction"
   ]
  },
  {
   "cell_type": "code",
   "execution_count": null,
   "metadata": {},
   "outputs": [
    {
     "data": {
      "image/png": "[encoded data removed]",
      "text/plain": [
       "<Figure size 640x480 with 1 Axes>"
      ]
     },
     "metadata": {},
     "output_type": "display_data"
    }
   ],
   "source": [
    "# Max number of components and step for postprocess\n",
    "r_max = 12\n",
    "r_step = 1\n",
    "\n",
    "X_reconstructed, err_rec = inverseTransform(\n",
    "    X_test_filt, X_lle, r_max, r_step, k_NN, reg, transpose_flag\n",
    ")\n",
    "# Save reconstruction errors for further post-processing\n",
    "np.savetxt(\"error_rec_LLE_s.csv\", err_rec, delimiter=\",\")\n",
    "\n",
    "dp.plot_save_reconst(err_rec, r_max, r_step, \"LLE\")"
   ]
  }
 ],
 "metadata": {
  "kernelspec": {
   "display_name": "paper",
   "language": "python",
   "name": "python3"
  },
  "language_info": {
   "codemirror_mode": {
    "name": "ipython",
    "version": 3
   },
   "file_extension": ".py",
   "mimetype": "text/x-python",
   "name": "python",
   "nbconvert_exporter": "python",
   "pygments_lexer": "ipython3",
   "version": "3.10.13"
  }
 },
 "nbformat": 4,
 "nbformat_minor": 2
}
