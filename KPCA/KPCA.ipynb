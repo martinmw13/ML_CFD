{
 "cells": [
  {
   "cell_type": "code",
   "execution_count": 17,
   "metadata": {},
   "outputs": [],
   "source": [
    "import numpy as np\n",
    "from sklearn.preprocessing import StandardScaler\n",
    "from sklearn.decomposition import KernelPCA\n",
    "import time\n",
    "import sys\n",
    "import pandas as pd\n",
    "from sklearn.model_selection import train_test_split\n",
    "sys.path.append(\"../dataprocess\")\n",
    "import dataprocess as dp"
   ]
  },
  {
   "cell_type": "markdown",
   "metadata": {},
   "source": [
    "#### KPCA functions"
   ]
  },
  {
   "cell_type": "code",
   "execution_count": 18,
   "metadata": {},
   "outputs": [],
   "source": [
    "def performKPCA(\n",
    "    X_train: np.ndarray,\n",
    "    r_max: int,\n",
    "    kernel_fcn: str,\n",
    "    gamma: float,\n",
    "    degree: int,\n",
    "    alpha: float,\n",
    "    transpose_flag: bool,\n",
    "):\n",
    "    \"\"\"Perform the Kernel PCA (KPCA) algorithm with scikit-learn\n",
    "\n",
    "    Args:\n",
    "        X_train (np.ndarray): data matrix\n",
    "        r_max (int): number of components to keep in the latent space\n",
    "        kernel_fcn (str): kernel function (rbf, sigmoid, linear, poly, cosine)\n",
    "        gamma (float): parameter for rbf and sigmoid kernel\n",
    "        degree (int): parameter for poly kernel\n",
    "        alpha (float): regularization parameter\n",
    "        transpose_flag (bool): temporal vs spatial arrangement of data\n",
    "\n",
    "    Returns:\n",
    "        X_kpca (KernelPCA): KPCA object\n",
    "    \"\"\"\n",
    "\n",
    "    if not transpose_flag:\n",
    "        \"\"\"the scikit-learn algorithm by default has a different data\n",
    "        arrangement than our definition above\n",
    "        By default it will reduce the size of the rows,\n",
    "        while our default is to reduce the size of the columns\n",
    "        if True: temporal size of the data will be reduced (leading to spatial modes)\n",
    "        -> RAM requirement very high!\n",
    "        if False: spatial size of the data will be reduced (NOT leading to  spatial modes)\n",
    "        \"\"\"\n",
    "        X_train = X_train.T\n",
    "\n",
    "    start = time.time()\n",
    "    # construct affinity matrix\n",
    "    # compute nearest neighbors matrix\n",
    "    kpca = KernelPCA(\n",
    "        n_components=r_max,\n",
    "        kernel=kernel_fcn,\n",
    "        fit_inverse_transform=True,\n",
    "        gamma=gamma,\n",
    "        degree=degree,\n",
    "        alpha=alpha,\n",
    "    )\n",
    "\n",
    "    X_kpca = kpca.fit(X_train)\n",
    "    X_fit_transform = X_kpca.fit_transform(X_train)\n",
    "    end = time.time()\n",
    "    print(\"Time elapsed for kPCA:\", end - start, \" s\")\n",
    "    print(\"Shape after embedding:\", X_kpca.eigenvectors_.shape)\n",
    "\n",
    "    return X_kpca, X_fit_transform"
   ]
  },
  {
   "cell_type": "code",
   "execution_count": 19,
   "metadata": {},
   "outputs": [],
   "source": [
    "def inverseTransform(\n",
    "    X_train: np.ndarray,\n",
    "    X_test: np.ndarray,\n",
    "    r_max: int,\n",
    "    r_step: int,\n",
    "    kernel_fcn: str,\n",
    "    gamma: float,\n",
    "    degree: int,\n",
    "    alpha: float,\n",
    "    transpose_flag: bool,\n",
    "):\n",
    "    \"\"\"Mapping back to the original space from the latent space and calculating reconstruction errors\n",
    "\n",
    "    Args:\n",
    "        X_train (np.ndarray): train data matrix\n",
    "        X_test (np.ndarray): test data matrix\n",
    "        r_max (int): max number of components used for reconstruction\n",
    "        r_step (int): mode number increment for calculating the reconstruction error\n",
    "        kernel_fcn (str): kernel function (rbf, sigmoid, linear, poly, cosine)\n",
    "        gamma (float): parameter for rbf and sigmoid kernel\n",
    "        degree (int): parameter for poly kernel\n",
    "        alpha (float): regularization parameter\n",
    "        transpose_flag (bool): temporal vs spatial arrangement of data\n",
    "\n",
    "    Returns:\n",
    "        X_reconstructed (np.ndarray): reconstructed data matrix with r_max modes\n",
    "        err_rec (np.ndarray): vector containing the reconstruction error for 1 to r_max modes\n",
    "    \"\"\"\n",
    "\n",
    "    err_rec = np.zeros(len(range(1, r_max + 1, r_step)))\n",
    "    if not transpose_flag:\n",
    "        # the scikit-learn algorithm by default has a different data arrangement than our definition above\n",
    "        X_train = X_train.T\n",
    "        X_test = X_test.T\n",
    "    i = 0\n",
    "    for r in range(1, r_max + 1, r_step):\n",
    "        kpca = KernelPCA(\n",
    "            n_components=r,\n",
    "            kernel=kernel_fcn,\n",
    "            fit_inverse_transform=True,\n",
    "            gamma=gamma,\n",
    "            degree=degree,\n",
    "            alpha=alpha,\n",
    "        )\n",
    "        X_kpca = kpca.fit(X_train)\n",
    "        X_test_transf = X_kpca.transform(X_test)\n",
    "        X_reconstructed = kpca.inverse_transform(X_test_transf)\n",
    "\n",
    "        # calculate reconstruction error over all snapshots using Frobenius norm\n",
    "        err_rec[i] = np.linalg.norm(X_test - X_reconstructed) / np.linalg.norm(X_test)\n",
    "        i += 1\n",
    "    return X_reconstructed, err_rec"
   ]
  },
  {
   "cell_type": "markdown",
   "metadata": {},
   "source": [
    "#### Parameters"
   ]
  },
  {
   "cell_type": "code",
   "execution_count": 20,
   "metadata": {},
   "outputs": [],
   "source": [
    "# Mesh\n",
    "nx = 227  # X-direction nodes\n",
    "ny = 120  # Y-direction nodes\n",
    "# Domain:\n",
    "Lx = 17.665369  # Lx (Size of the box in x-direction)\n",
    "Ly = 9.0  # Ly (Size of the box in y-direction)\n",
    "# Cylinder coordinates:\n",
    "X_0 = 2.66537  # X coordinate of the center\n",
    "Y_0 = 4.5  # Y coordinate of the center\n",
    "r = 0.5  # Cylinder radius\n",
    "\n",
    "mesh = dp.Mesh(nx, ny, Lx, Ly, X_0, Y_0, r)\n",
    "\n",
    "# Data path\n",
    "re = 100\n",
    "train_input_dir = \"../data/modV_train\"\n",
    "test_input_dir = \"../data/modV_test\"\n",
    "input_filename = f'modV_crop_re{re}.csv'\n",
    "# Max number of components and step for postprocess\n",
    "r_max = 12\n",
    "r_step = 1"
   ]
  },
  {
   "cell_type": "code",
   "execution_count": 21,
   "metadata": {},
   "outputs": [],
   "source": [
    "''' Read velocity data\n",
    "  X - velocity module\n",
    " rows of X correspond to velocity components at spatial locations\n",
    " columns of X correspond to timesteps\n",
    "     t_1 t_2.  .  t_n\n",
    " X = [u  u  .  .  .]  (x_1,y_1)\n",
    "     [v  v  .  .  .]  (x_1,y_1)\n",
    "     [w  w  .  .  .]  (x_1,y_1)\n",
    "     [u  u  .  .  .]  (x_2,y_2)\n",
    "     [v  v  .  .  .]  (x_2,y_2)\n",
    "     [w  w  .  .  .]  (x_2,y_2)\n",
    "     [.  .  .  .  .]   .\n",
    "     [.  .  .  .  .]   .\n",
    "     [.  .  .  .  .]   .\n",
    "'''\n",
    "X_train = dp.read_X_csv(os.path.join(train_input_dir, input_filename))\n",
    "X_test = dp.read_X_csv(os.path.join(train_input_dir, input_filename))\n",
    "\n",
    "# Scale data\n",
    "std_scaler = StandardScaler()\n",
    "X_train = std_scaler.fit_transform(X_train)\n",
    "X_test = std_scaler.fit_transform(X_test)\n",
    "\n",
    "n, m = X_train.shape\n",
    "\n",
    "print(\"Data matrix X is n by m:\", n, \"x\", m, flush=True)\n",
    "\n",
    "# Create mesh class instance\n",
    "mesh = dp.Mesh(nx, ny, Lx, Ly, X_0, Y_0, r)\n",
    "# Erase cylinder from snapshot\n",
    "X_train_filt = dp.erase_cyl(X_train, mesh)\n",
    "X_test_filt = dp.erase_cyl(X_test, mesh)"
   ]
  },
  {
   "cell_type": "markdown",
   "metadata": {},
   "source": [
    "#### Perform KPCA"
   ]
  },
  {
   "cell_type": "code",
   "execution_count": 50,
   "metadata": {},
   "outputs": [],
   "source": [
    "# transpose_flag - temporal vs spatial arrangement of data\n",
    "#        if True: temporal size of the data will be reduced (leading to spatial modes)\n",
    "#        if False: spatial size of the data will be reduced (NOT leading to spatial modes)\n",
    "transpose_flag = False\n",
    "\n",
    "# Kernel PCA w/ scikit learn\n",
    "# choose kernel function, options: rbf, sigmoid, linear, poly, cosine\n",
    "kernel_fcn = \"rbf\"\n",
    "# gamma - parameter for rbf, sigmoid kernel\n",
    "# degree - parameter for the poly kernel\n",
    "# alpha - regularization parameter\n",
    "gamma = 0.01\n",
    "degree = 1\n",
    "alpha = 1e-3"
   ]
  },
  {
   "cell_type": "code",
   "execution_count": 42,
   "metadata": {},
   "outputs": [],
   "source": [
    "# save modes in csv and png files\n",
    "save_flag = False\n",
    "if save_flag:\n",
    "    X_kpca = performKPCA(\n",
    "        X_train_filt, r_max, kernel_fcn, gamma, degree, alpha, transpose_flag\n",
    "    )\n",
    "    outfile_dir = \"modes/\"\n",
    "    modesToSave = r_max\n",
    "    if modesToSave > X_kpca.eigenvectors_.shape[1]:\n",
    "        modes = X_kpca.eigenvectors_.shape[1]\n",
    "        print(\"Max number of modes is\", X_kpca.eigenvectors_.shape[1])\n",
    "    else:\n",
    "        dp.save_modes(X_kpca, outfile_dir, modesToSave, mesh)"
   ]
  },
  {
   "cell_type": "code",
   "execution_count": 51,
   "metadata": {},
   "outputs": [
    {
     "data": {
      "image/png": "[encoded data removed]",
      "text/plain": [
       "<Figure size 640x480 with 1 Axes>"
      ]
     },
     "metadata": {},
     "output_type": "display_data"
    }
   ],
   "source": [
    "X_reconstructed, err_rec = inverseTransform(\n",
    "    X_train_filt, X_test_filt, r_max, r_step, kernel_fcn, gamma, degree, alpha, transpose_flag\n",
    ")\n",
    "# Save reconstruction errors for further post-processing\n",
    "np.savetxt(\"errorkPCAs.csv\", err_rec, delimiter=\",\")\n",
    "dp.plot_save_reconst(err_rec, r_max, r_step, \"KPCA\")"
   ]
  },
  {
   "cell_type": "markdown",
   "metadata": {},
   "source": []
  }
 ],
 "metadata": {
  "kernelspec": {
   "display_name": "paper",
   "language": "python",
   "name": "python3"
  },
  "language_info": {
   "codemirror_mode": {
    "name": "ipython",
    "version": 3
   },
   "file_extension": ".py",
   "mimetype": "text/x-python",
   "name": "python",
   "nbconvert_exporter": "python",
   "pygments_lexer": "ipython3",
   "version": "3.10.13"
  }
 },
 "nbformat": 4,
 "nbformat_minor": 2
}
